{
  "cells": [
    {
      "cell_type": "markdown",
      "metadata": {
        "id": "cRueBoPnQlks"
      },
      "source": [
        "# Introduction to Jupyter Notebook\n",
        "\n",
        "**Jupyter Notebook** is an interactive programming environment that allows you to create and share documents containing code, equations, visualizations, and text. It is a tool for creating reports, presentations, as well as learning programming.\n",
        "\n",
        "Larger portions of text in Jupyter Notebook are written in **Markdown**, which allows for formatting. Below, we'll see some examples of text formatting in [Markdown](https://www.markdownguide.org/cheat-sheet/) (more examples: [here](https://quarto.org/docs/authoring/markdown-basics.html) and [here](https://markdown-it.github.io/)). Mathematical formulas can be introduced using [LaTeX](https://tilburgsciencehub.com/topics/research-skills/templates-dynamic-content/templates/amsmath-latex-cheatsheet/).\n",
        "Remember, you can always ask AI for Markdown or LaTeX syntax!\n",
        "\n",
        "Mathematical calculations can be performed using **Python**. Python's syntax is clear and intuitive, allowing for quick script and program creation. In **Jupyter Notebook** (.ipynb), you can run Python code in code cells.\n",
        "\n",
        "**Colab** is a Google-hosted Jupyter Notebook service that requires no setup and provides free access to computing resources, including GPUs. Colab is particularly well-suited for machine learning, data science, and education.\n",
        "\n",
        "Using AI tools such as [ChatGPT](https://openai.com/chatgpt), [Gemini](https://www.google.com/search?q=gemini+AI), [Claude](https://www.anthropic.com/claude), can greatly facilitate learning math in academic courses. These language models offer quick answers, explanations of difficult concepts, and help with solving problems, enabling interactive learning at any time.\n",
        "\n",
        "## Introduction to Markdown\n",
        "\n",
        "* \"# First Level Heading\"\n",
        "* \"## Second Level Heading\"\n",
        "* \"### Third Level Heading\"\n",
        "\n",
        "This is **bold** text, and this is *italic*. You can also combine both styles like **_bold italic_**.\n",
        "\n",
        "You can insert lists:\n",
        "- Item 1\n",
        "- Item 2\n",
        "  - Sub-item 1\n",
        "  - Sub-item 2\n",
        "\n",
        "Or numbered lists:\n",
        "1. First step\n",
        "2. Second step\n",
        "3. Third step\n",
        "\n",
        "Insert a link: [Visit Google](https://www.google.com)\n",
        "\n",
        "Insert an image:  \n",
        "![Example Image](https://www.mediawiki.org/static/images/icons/mediawikiwiki.svg)\n",
        "\n",
        "Insert an inline code snippet: `print(\"Hello World!\")`\n",
        "\n",
        "Insert a code block:\n",
        "\n",
        "```python\n",
        "def function():\n",
        "    print(\"This is a block of Python code.\")\n",
        "```\n",
        "\n",
        "Mathematical equations in LaTeX:\n",
        "\n",
        "Inline equation: $e^{i\\pi} + 1 = 0$\n",
        "\n",
        "Displayed equation:\n",
        "\n",
        "$$e^{i\\pi} + 1 = 0$$\n",
        "\n",
        "## Introduction to Mathematics in Jupyter Notebooks\n",
        "\n",
        "### Numerical Mathematical Calculations\n",
        "\n",
        "#### Python Standard Math Library"
      ]
    },
    {
      "cell_type": "code",
      "execution_count": 1,
      "metadata": {
        "colab": {
          "base_uri": "https://localhost:8080/"
        },
        "id": "ZrNjUFXJQlkz",
        "outputId": "6a96f886-ffc1-4f80-f996-c8178c7f5da4"
      },
      "outputs": [
        {
          "output_type": "execute_result",
          "data": {
            "text/plain": [
              "(1024, 1267650600228229401496703205376)"
            ]
          },
          "metadata": {},
          "execution_count": 1
        }
      ],
      "source": [
        "# Python as a calculator\n",
        "2**10, 2**100"
      ]
    },
    {
      "cell_type": "code",
      "execution_count": 2,
      "metadata": {
        "colab": {
          "base_uri": "https://localhost:8080/"
        },
        "id": "H1fHJ9ohQlk1",
        "outputId": "4344f4af-28c7-497c-9e2a-2a457f431520"
      },
      "outputs": [
        {
          "output_type": "stream",
          "name": "stdout",
          "text": [
            "1.2246467991473532e-16\n",
            "1.0\n",
            "1.4142135623730951\n"
          ]
        }
      ],
      "source": [
        "# To calculate more complex expressions, you need additional modules (math, numpy, sympy)\n",
        "\n",
        "import math # math module\n",
        "\n",
        "# Return sine\n",
        "print(math.sin(math.pi))\n",
        "print(math.sin(math.pi/2))\n",
        "print(math.sqrt(2))"
      ]
    },
    {
      "cell_type": "code",
      "execution_count": 3,
      "metadata": {
        "colab": {
          "base_uri": "https://localhost:8080/"
        },
        "id": "LQ7ExLDZQlk2",
        "outputId": "220e9d98-bf43-4243-e1e6-ed7d3aebe4f7"
      },
      "outputs": [
        {
          "output_type": "stream",
          "name": "stdout",
          "text": [
            "Square root of 2 is 1.4142135623730951\n",
            "Sine of 30 degrees is 0.49999999999999994\n"
          ]
        }
      ],
      "source": [
        "# Presenting results\n",
        "import math # math module\n",
        "print(f\"Square root of 2 is {math.sqrt(2)}\")\n",
        "print(f\"Sine of 30 degrees is {math.sin(math.radians(30))}\")"
      ]
    },
    {
      "cell_type": "markdown",
      "metadata": {
        "id": "zT3EPVcbQlk2"
      },
      "source": [
        "#### Numerical Python (NumPy)\n",
        "\n",
        "For more demanding, efficient, and accurate calculations, we use the NumPy library"
      ]
    },
    {
      "cell_type": "code",
      "execution_count": 4,
      "metadata": {
        "id": "kA7EdGzRQlk3",
        "outputId": "853d43ac-e8a0-4dc5-abbc-9e1cd32abf47",
        "colab": {
          "base_uri": "https://localhost:8080/"
        }
      },
      "outputs": [
        {
          "output_type": "stream",
          "name": "stdout",
          "text": [
            "Sine of 30 degrees is 0.49999999999999994\n",
            "Log base 10 of 2 is 0.3010299956639812\n",
            "Norm of vector [1,1,1,1,1] is 2.23606797749979\n"
          ]
        }
      ],
      "source": [
        "import numpy as np # Numerical Python module\n",
        "print(f\"Sine of 30 degrees is {np.sin(np.radians(30))}\")\n",
        "print(f\"Log base 10 of 2 is {np.log10(2)}\")\n",
        "print(f\"Norm of vector [1,1,1,1,1] is {np.linalg.norm([1, 1, 1, 1, 1])}\")"
      ]
    },
    {
      "cell_type": "code",
      "execution_count": 5,
      "metadata": {
        "id": "vRrnmZczQlk3",
        "outputId": "e5fd712b-300b-4550-fffb-d342cc561a34",
        "colab": {
          "base_uri": "https://localhost:8080/"
        }
      },
      "outputs": [
        {
          "output_type": "stream",
          "name": "stdout",
          "text": [
            "Determinant of matrix A is -2.0000000000000004\n"
          ]
        }
      ],
      "source": [
        "# Determinant of a matrix\n",
        "A = np.array([[1, 2], [3, 4]])\n",
        "print(f\"Determinant of matrix A is {np.linalg.det(A)}\")"
      ]
    },
    {
      "cell_type": "code",
      "execution_count": 6,
      "metadata": {
        "id": "NvcZEZgqQlk4",
        "outputId": "4a2231de-c84f-4707-c391-9e95b552c054",
        "colab": {
          "base_uri": "https://localhost:8080/"
        }
      },
      "outputs": [
        {
          "output_type": "stream",
          "name": "stdout",
          "text": [
            "Solution to system Ax=b is x=[-3.  4.]\n"
          ]
        }
      ],
      "source": [
        "# Solving systems of equations\n",
        "b = np.array([5, 7])\n",
        "x = np.linalg.solve(A, b)\n",
        "print(f\"Solution to system Ax=b is x={x}\")"
      ]
    },
    {
      "cell_type": "code",
      "execution_count": 7,
      "metadata": {
        "id": "LDUPvSxwQlk4",
        "outputId": "72d11d4f-d854-4df5-adc6-71b94d806857",
        "colab": {
          "base_uri": "https://localhost:8080/"
        }
      },
      "outputs": [
        {
          "output_type": "stream",
          "name": "stdout",
          "text": [
            "0.333333333333333314829616256247\n"
          ]
        }
      ],
      "source": [
        "# Unfortunately, numerical solutions are always approximations, not exact solutions.\n",
        "print(f\"{1/3:.30f}\")"
      ]
    },
    {
      "cell_type": "markdown",
      "metadata": {
        "id": "Di30T9ZSQlk4"
      },
      "source": [
        "#### Symbolic Mathematical Calculations\n",
        "\n",
        "SymPy is a Python library for symbolic calculations, allowing for manipulation of mathematical symbols such as variables, equations, functions, derivatives, integrals, limits, and matrices."
      ]
    },
    {
      "cell_type": "code",
      "execution_count": 8,
      "metadata": {
        "id": "nj4iqkPBQlk5"
      },
      "outputs": [],
      "source": [
        "# Python allows symbolic calculations\n",
        "import sympy as sp\n",
        "x, y, z = sp.symbols('x y z') # declare variables\n",
        "f, g = sp.symbols('f g', cls=sp.Function) # declare functions"
      ]
    },
    {
      "cell_type": "code",
      "execution_count": 9,
      "metadata": {
        "id": "fkEK2eDNQlk5",
        "outputId": "7988e0da-4b04-4205-c952-780f07fec7e8",
        "colab": {
          "base_uri": "https://localhost:8080/",
          "height": 51
        }
      },
      "outputs": [
        {
          "output_type": "execute_result",
          "data": {
            "text/plain": [
              "1/2"
            ],
            "text/latex": "$\\displaystyle \\frac{1}{2}$"
          },
          "metadata": {},
          "execution_count": 9
        }
      ],
      "source": [
        "# Sine of 30 degrees\n",
        "sp.sin(sp.rad(30)) # exact result 1/2"
      ]
    },
    {
      "cell_type": "code",
      "execution_count": 10,
      "metadata": {
        "id": "GP1YHbhXQlk6",
        "outputId": "c5dad5d5-7b86-409c-8801-7e492455a2a5",
        "colab": {
          "base_uri": "https://localhost:8080/",
          "height": 37
        }
      },
      "outputs": [
        {
          "output_type": "execute_result",
          "data": {
            "text/plain": [
              "1"
            ],
            "text/latex": "$\\displaystyle 1$"
          },
          "metadata": {},
          "execution_count": 10
        }
      ],
      "source": [
        "# Natural logarithm of e\n",
        "sp.log(sp.E)"
      ]
    },
    {
      "cell_type": "code",
      "execution_count": 11,
      "metadata": {
        "id": "gncIqvefQlk6",
        "outputId": "4b0229be-48fa-4917-8a06-040f1bf81f5c",
        "colab": {
          "base_uri": "https://localhost:8080/",
          "height": 38
        }
      },
      "outputs": [
        {
          "output_type": "execute_result",
          "data": {
            "text/plain": [
              "sqrt(5)"
            ],
            "text/latex": "$\\displaystyle \\sqrt{5}$"
          },
          "metadata": {},
          "execution_count": 11
        }
      ],
      "source": [
        "# Norm of vector [1,1,1,1,1]\n",
        "v = sp.Matrix([1, 1, 1, 1, 1])\n",
        "v.norm()"
      ]
    },
    {
      "cell_type": "code",
      "execution_count": 12,
      "metadata": {
        "id": "tTIV0anjQlk6"
      },
      "outputs": [],
      "source": [
        "f = f(x)"
      ]
    },
    {
      "cell_type": "code",
      "execution_count": 14,
      "metadata": {
        "id": "9oyboboBQlk7",
        "outputId": "4ece95bb-57b4-4cd8-d79e-f95f3a73a07d",
        "colab": {
          "base_uri": "https://localhost:8080/",
          "height": 39
        }
      },
      "outputs": [
        {
          "output_type": "execute_result",
          "data": {
            "text/plain": [
              "x + y"
            ],
            "text/latex": "$\\displaystyle x + y$"
          },
          "metadata": {},
          "execution_count": 14
        }
      ],
      "source": [
        "x + y # operations on variables"
      ]
    },
    {
      "cell_type": "code",
      "execution_count": 13,
      "metadata": {
        "id": "pkEqKVLxQlk7",
        "outputId": "48c69739-209c-497b-94eb-9906219e218d",
        "colab": {
          "base_uri": "https://localhost:8080/",
          "height": 39
        }
      },
      "outputs": [
        {
          "output_type": "execute_result",
          "data": {
            "text/plain": [
              "x**2 - 2*x*y + y**2"
            ],
            "text/latex": "$\\displaystyle x^{2} - 2 x y + y^{2}$"
          },
          "metadata": {},
          "execution_count": 13
        }
      ],
      "source": [
        "eq1 = ((x - y)**2).expand() # expand expression\n",
        "eq1"
      ]
    },
    {
      "cell_type": "code",
      "execution_count": 15,
      "metadata": {
        "id": "frf7FouvQlk8",
        "outputId": "b3f24844-a7ca-4fdd-cbf2-6c4f28bddf3c",
        "colab": {
          "base_uri": "https://localhost:8080/",
          "height": 39
        }
      },
      "outputs": [
        {
          "output_type": "execute_result",
          "data": {
            "text/plain": [
              "y**2 - 2*y + 1"
            ],
            "text/latex": "$\\displaystyle y^{2} - 2 y + 1$"
          },
          "metadata": {},
          "execution_count": 15
        }
      ],
      "source": [
        "eq2 = eq1.subs(x, 1) # substitute value\n",
        "eq2"
      ]
    },
    {
      "cell_type": "code",
      "execution_count": 16,
      "metadata": {
        "id": "qKkn_00BQlk8",
        "outputId": "0f4ae9cf-67c6-4464-f4bf-b46f9a0b8c62",
        "colab": {
          "base_uri": "https://localhost:8080/",
          "height": 37
        }
      },
      "outputs": [
        {
          "output_type": "execute_result",
          "data": {
            "text/plain": [
              "{1}"
            ],
            "text/latex": "$\\displaystyle \\left\\{1\\right\\}$"
          },
          "metadata": {},
          "execution_count": 16
        }
      ],
      "source": [
        "# solution of eq2\n",
        "sol = sp.solveset(eq2, y)\n",
        "sol"
      ]
    },
    {
      "cell_type": "code",
      "execution_count": 17,
      "metadata": {
        "id": "V0fzCMRQQlk8",
        "outputId": "04c3ace2-7648-4e10-a177-705a5404d01b",
        "colab": {
          "base_uri": "https://localhost:8080/",
          "height": 39
        }
      },
      "outputs": [
        {
          "output_type": "execute_result",
          "data": {
            "text/plain": [
              "cos(x)"
            ],
            "text/latex": "$\\displaystyle \\cos{\\left(x \\right)}$"
          },
          "metadata": {},
          "execution_count": 17
        }
      ],
      "source": [
        "# differentiation\n",
        "f = sp.sin(x)\n",
        "sp.diff(f, x)"
      ]
    },
    {
      "cell_type": "code",
      "execution_count": 18,
      "metadata": {
        "id": "Bj-i_IllQlk9",
        "outputId": "93e71fc2-9f6a-48dc-a277-d21cd9220889",
        "colab": {
          "base_uri": "https://localhost:8080/",
          "height": 47
        }
      },
      "outputs": [
        {
          "output_type": "execute_result",
          "data": {
            "text/plain": [
              "sin(x**cos(x))"
            ],
            "text/latex": "$\\displaystyle \\sin{\\left(x^{\\cos{\\left(x \\right)}} \\right)}$"
          },
          "metadata": {},
          "execution_count": 18
        }
      ],
      "source": [
        "# more complex expressions\n",
        "f = sp.sin(x**sp.cos(x))\n",
        "f"
      ]
    },
    {
      "cell_type": "code",
      "execution_count": 19,
      "metadata": {
        "id": "u-MAPRwzQlk9",
        "outputId": "696c2b33-6a01-4c10-a641-d9a7c0170df2",
        "colab": {
          "base_uri": "https://localhost:8080/",
          "height": 58
        }
      },
      "outputs": [
        {
          "output_type": "execute_result",
          "data": {
            "text/plain": [
              "x**cos(x)*(-log(x)*sin(x) + cos(x)/x)*cos(x**cos(x))"
            ],
            "text/latex": "$\\displaystyle x^{\\cos{\\left(x \\right)}} \\left(- \\log{\\left(x \\right)} \\sin{\\left(x \\right)} + \\frac{\\cos{\\left(x \\right)}}{x}\\right) \\cos{\\left(x^{\\cos{\\left(x \\right)}} \\right)}$"
          },
          "metadata": {},
          "execution_count": 19
        }
      ],
      "source": [
        "f.diff(x)"
      ]
    },
    {
      "cell_type": "code",
      "execution_count": 20,
      "metadata": {
        "id": "NRAhSSZVQlk9",
        "outputId": "ffa2db9a-9778-4e8e-a842-4e9e208bbd76",
        "colab": {
          "base_uri": "https://localhost:8080/",
          "height": 55
        }
      },
      "outputs": [
        {
          "output_type": "execute_result",
          "data": {
            "text/plain": [
              "x*sin(x)**2/4 - x*cos(x)**2/4 + sin(x)*cos(x)/4"
            ],
            "text/latex": "$\\displaystyle \\frac{x \\sin^{2}{\\left(x \\right)}}{4} - \\frac{x \\cos^{2}{\\left(x \\right)}}{4} + \\frac{\\sin{\\left(x \\right)} \\cos{\\left(x \\right)}}{4}$"
          },
          "metadata": {},
          "execution_count": 20
        }
      ],
      "source": [
        "# integration\n",
        "f = sp.sin(x) * sp.cos(x) * x\n",
        "f.integrate(x)"
      ]
    },
    {
      "cell_type": "code",
      "execution_count": 21,
      "metadata": {
        "id": "ypcJGGASQlk9",
        "outputId": "68e9242b-1bbd-4cc7-8cb3-316f661da3e6",
        "colab": {
          "base_uri": "https://localhost:8080/",
          "height": 484
        }
      },
      "outputs": [
        {
          "output_type": "display_data",
          "data": {
            "text/plain": [
              "<Figure size 640x480 with 1 Axes>"
            ],
            "image/png": "[encoded data removed]"
          },
          "metadata": {}
        }
      ],
      "source": [
        "# plot of a parabola\n",
        "f = x**2\n",
        "sp.plot(f);"
      ]
    },
    {
      "cell_type": "code",
      "execution_count": 22,
      "metadata": {
        "id": "2t4PUPxjQlk-",
        "outputId": "8cfb81cd-fbf1-4602-be3f-b30f8a780be2",
        "colab": {
          "base_uri": "https://localhost:8080/",
          "height": 54
        }
      },
      "outputs": [
        {
          "output_type": "execute_result",
          "data": {
            "text/plain": [
              "x**3/3"
            ],
            "text/latex": "$\\displaystyle \\frac{x^{3}}{3}$"
          },
          "metadata": {},
          "execution_count": 22
        }
      ],
      "source": [
        "sp.integrate(x**2, x)"
      ]
    }
  ],
  "metadata": {
    "kernelspec": {
      "display_name": "Python 3 (ipykernel)",
      "language": "python",
      "name": "python3",
      "path": "/media/dch/Disk2/Vizja/Math-2024-25-Winter/.venv/share/jupyter/kernels/python3"
    },
    "colab": {
      "provenance": []
    }
  },
  "nbformat": 4,
  "nbformat_minor": 0
}