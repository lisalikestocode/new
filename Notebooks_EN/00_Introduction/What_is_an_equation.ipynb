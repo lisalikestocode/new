{
  "cells": [
    {
      "cell_type": "markdown",
      "metadata": {
        "id": "view-in-github",
        "colab_type": "text"
      },
      "source": [
        "<a href=\"https://colab.research.google.com/github/lisalikestocode/new/blob/main/Notebooks_EN/00_Introduction/What_is_an_equation.ipynb\" target=\"_parent\"><img src=\"https://colab.research.google.com/assets/colab-badge.svg\" alt=\"Open In Colab\"/></a>"
      ]
    },
    {
      "cell_type": "markdown",
      "metadata": {
        "id": "JxLLYhJ9NaTb"
      },
      "source": [
        "## Definition of an Equation\n",
        "\n",
        "An **equation** in mathematics is a formal expression that states that two values or expressions are equal. It consists of two parts: the left-hand side and the right-hand side, separated by an equals sign \"=\".\n",
        "\n",
        "Solving equations involves finding the values of the variables (called unknowns) that make the equation true.\n",
        "\n",
        "\n",
        "**Example 1**\n",
        "\n",
        "Consider the equation $2x + 3 = 7$. In this case, we have one variable $x$. When solving the equation, we want to find the value of $x$ for which the left-hand side is equal to the right-hand side. The solution of the equation is the set\n",
        "\n",
        "$$\n",
        "\\{x \\in \\mathbb{R} : 2x + 3 = 7\\} = \\{x \\in \\mathbb{R} : x = 2\\}= \\{2\\}\n",
        "$$\n",
        "\n",
        "where\n",
        "\n",
        "1. **$\\{x \\in \\mathbb{R} : 2x + 3 = 7\\}$**  \n",
        "   Read as:  \n",
        "   \"The set of all $x$ belonging to real numbers for which $2x + 3 = 7$.\"\n",
        "\n",
        "2. **$\\{x \\in \\mathbb{R} : x = 2\\}$**  \n",
        "   Read as:  \n",
        "   \"The set of all $x$ belonging to real numbers for which $x = 2$.\"\n",
        "\n",
        "3. **$\\{2\\}$**  \n",
        "   Read as:  \n",
        "   \"The set containing only the number 2.\"\n",
        "\n",
        "Thus, the entire construction shows that the solution to the equation $2x + 3 = 7$ is the number $x = 2$, which we write as the singleton set $\\{2\\}$.\n",
        "\n",
        "\n",
        "**Example 2**\n",
        "\n",
        "Consider the equation $x^2 - 4 = 0$. In this case, we have one variable $x$. When solving the equation, we want to find the value of $x$ for which the left-hand side is equal to the right-hand side. The solution of the equation is the set\n",
        "\n",
        "$$\n",
        "\\{x \\in \\mathbb{R} : x^2 - 4 = 0\\}= \\{x \\in \\mathbb{R} : x^2 = 4\\} = \\{x \\in \\mathbb{R} : x = 2 \\lor x = -2\\} = \\{2, -2\\}\n",
        "$$\n",
        "\n",
        "where\n",
        "\n",
        "1. **$\\{x \\in \\mathbb{R} : x^2 - 4 = 0\\}$**  \n",
        "   Read as:  \n",
        "   \"The set of all $x$ belonging to real numbers for which $x^2 - 4 = 0$.\"\n",
        "\n",
        "2. **$\\{x \\in \\mathbb{R} : x^2 = 4\\}$**  \n",
        "   Read as:  \n",
        "   \"The set of all $x$ belonging to real numbers for which $x^2 = 4$.\"\n",
        "\n",
        "3. **$\\{x \\in \\mathbb{R} : x = 2 \\lor x = -2\\}$**  \n",
        "   Read as:  \n",
        "   \"The set of all $x$ belonging to real numbers for which $x = 2$ or $x = -2$.\"\n",
        "\n",
        "4. **$\\{2, -2\\}$**  \n",
        "   Read as:  \n",
        "   \"The set containing the numbers 2 and -2.\"\n",
        "\n",
        "Thus, the entire construction shows that the solution to the equation $x^2 - 4 = 0$ is the numbers $x = 2$ and $x = -2$, which we write as the set $\\{2, -2\\}$.\n",
        "\n",
        "\n",
        "**Example 3**\n",
        "\n",
        "Consider the line given by the equation $y = 2x + 1$. In this case, we have two variables $x$ and $y$. When solving the equation, we want to find the values of $x$ and $y$ for which the left-hand side is equal to the right-hand side. The solution of the equation is the set\n",
        "\n",
        "$$\n",
        "\\{(x, y) \\in \\mathbb{R}^2 : (x \\in \\mathbb{R}) \\land (y = 2x + 1)\\} = \\{(x, 2x + 1) : x \\in \\mathbb{R}\\}\n",
        "$$\n",
        "\n",
        "where\n",
        "\n",
        "1. **$\\{(x, y) \\in \\mathbb{R}^2 : (x \\in \\mathbb{R}) \\land (y = 2x + 1)\\}$**  \n",
        "   Read as:  \n",
        "   \"The set of all pairs $(x, y)$ belonging to the plane $\\mathbb{R}^2$, where $x$ is a real number and $y = 2x + 1$.\"\n",
        "\n",
        "2. **$\\{(x, 2x + 1) : x \\in \\mathbb{R}\\}$**  \n",
        "   Read as:  \n",
        "   \"The set of all pairs of the form $(x, 2x + 1)$, where $x$ belongs to real numbers.\"\n",
        "\n",
        "Thus, the entire construction shows that the set of points $(x, y)$ that satisfy the equation $y = 2x + 1$ can be described as the set of pairs of the form $(x, 2x + 1)$, where $x$ is a real number.\n",
        "\n",
        "\n",
        "**Example 4**\n",
        "\n",
        "Sometimes we deal with implicit equations $F(x,y)$ that cannot be written in the form $y = f(x)$ or $x = f(y)$. Solving such an equation, as above, involves finding all pairs $(x, y)$ that satisfy the equation $F(x, y)$, which we write as\n",
        "\n",
        "$$\n",
        "\\{(x, y) \\in \\mathbb{R}^2 : F(x, y) = 0\\}\n",
        "$$\n",
        "\n",
        "The equation of a circle $x^2 + y^2 = 1$ is an example of an implicit equation. Let's find its solution. Consider the following equalities\n",
        "\n",
        "$$\n",
        "\\begin{cases}\n",
        "y_1=+\\sqrt{1-x^2}\\quad \\text{where } x\\in[-1,1]\\\\\n",
        "y_2=-\\sqrt{1-x^2}\\quad \\text{where } x\\in[-1,1]\\\\\n",
        "\\end{cases}\n",
        "$$\n",
        "\n",
        "We see that $y_1^2 = 1 - x^2$ and $y_2^2 = 1 - x^2$. This means that $y_1$ and $y_2$ satisfy the equation $x^2 + y^2 = 1$. Hence, the solution to the equation $x^2 + y^2 = 1$ is the set\n",
        "\n",
        "$$\n",
        "\\{(x, y) \\in \\mathbb{R}^2 : x^2 + y^2 = 1\\} = \\{(x, \\sqrt{1-x^2}) : x \\in [-1, 1]\\}\\cup\\{(x,-\\sqrt{1-x^2}) : x \\in [-1, 1]\\}\n",
        "$$\n",
        "\n",
        "1. **$\\{(x, y) \\in \\mathbb{R}^2 : x^2 + y^2 = 1\\}$**  \n",
        "   Read as:  \n",
        "   \"The set of all pairs $(x, y)$ belonging to the plane $\\mathbb{R}^2$, for which $x^2 + y^2 = 1$. This is the equation of a circle with radius 1 and center at $(0, 0)$.\"\n",
        "\n",
        "2. **$\\{(x, \\sqrt{1 - x^2}) : x \\in [-1, 1]\\}$**  \n",
        "   Read as:  \n",
        "   \"The set of all pairs of the form $(x, \\sqrt{1 - x^2})$, where $x$ belongs to the interval $[-1, 1]$. This is the upper semicircle.\"\n",
        "\n",
        "3. **$\\{(x, -\\sqrt{1 - x^2}) : x \\in [-1, 1]\\}$**  \n",
        "   Read as:  \n",
        "   \"The set of all pairs of the form $(x, -\\sqrt{1 - x^2})$, where $x$ belongs to the interval $[-1, 1]$. This is the lower semicircle.\"\n",
        "\n",
        "Thus, the entire construction shows that the set of points $(x, y)$ that satisfy the equation of the circle $x^2 + y^2 = 1$ can be described as the union of the sets: the upper semicircle $\\{(x, \\sqrt{1 - x^2})\\}$ and the lower semicircle $\\{(x, -\\sqrt{1 - x^2})\\}$, where $x$ belongs to the interval $[-1, 1]$.\n",
        "\n",
        "# Now we will see how we can manipulate equations in Python"
      ]
    },
    {
      "cell_type": "code",
      "execution_count": 37,
      "metadata": {
        "id": "wKqzugSKNaTy",
        "outputId": "b35bc076-9f97-41ed-9034-dd7a6664d609",
        "colab": {
          "base_uri": "https://localhost:8080/"
        }
      },
      "outputs": [
        {
          "output_type": "execute_result",
          "data": {
            "text/plain": [
              "11"
            ]
          },
          "metadata": {},
          "execution_count": 37
        }
      ],
      "source": [
        "# If we refer to an undefined variable in a function, Python will return an error\n",
        "z"
      ]
    },
    {
      "cell_type": "code",
      "execution_count": null,
      "metadata": {
        "id": "hgN_P0AWNaT0",
        "outputId": "41cf3c23-07ad-41be-8140-9f1a5ecd0581",
        "colab": {
          "base_uri": "https://localhost:8080/"
        }
      },
      "outputs": [
        {
          "output_type": "execute_result",
          "data": {
            "text/plain": [
              "10"
            ]
          },
          "metadata": {},
          "execution_count": 2
        }
      ],
      "source": [
        "# We can define the variable z\n",
        "z = 10 # assign the value 10 to variable z\n",
        "z      # display the value of variable z"
      ]
    },
    {
      "cell_type": "code",
      "execution_count": null,
      "metadata": {
        "id": "wzuQTTvfNaT0",
        "outputId": "2b66ad5c-13b4-4371-98bb-319b39772773",
        "colab": {
          "base_uri": "https://localhost:8080/"
        }
      },
      "outputs": [
        {
          "output_type": "execute_result",
          "data": {
            "text/plain": [
              "11"
            ]
          },
          "metadata": {},
          "execution_count": 3
        }
      ],
      "source": [
        "# We can add 1 to z\n",
        "z = z + 1 # assign the value z+1 to variable z\n",
        "z         # display the value of variable z"
      ]
    },
    {
      "cell_type": "markdown",
      "metadata": {
        "id": "m0JVuG5xNaT1"
      },
      "source": [
        "The problem with this approach is that it does not allow us to manipulate symbols! The above definition assigns a numerical value to the symbol rather than a symbolic one. In Python, we have the `sympy` library available, which allows us to manipulate symbols.\n",
        "\n",
        "Below, we will show some examples of how we can manipulate symbols and equations in Python."
      ]
    },
    {
      "cell_type": "code",
      "execution_count": null,
      "metadata": {
        "id": "3tfjETEmNaT2"
      },
      "outputs": [],
      "source": [
        "# First, we import the sympy library (Symbolic Python)\n",
        "import sympy as sp\n",
        "\n",
        "# Define variables x and y as symbols\n",
        "x, y = sp.symbols('x y')"
      ]
    },
    {
      "cell_type": "code",
      "execution_count": null,
      "metadata": {
        "id": "0WeWZJKHNaT2",
        "outputId": "20765493-cb85-4780-8a47-931732675825",
        "colab": {
          "base_uri": "https://localhost:8080/",
          "height": 39
        }
      },
      "outputs": [
        {
          "output_type": "execute_result",
          "data": {
            "text/plain": [
              "x"
            ],
            "text/latex": "$\\displaystyle x$"
          },
          "metadata": {},
          "execution_count": 5
        }
      ],
      "source": [
        "x # x is now a symbol"
      ]
    },
    {
      "cell_type": "code",
      "execution_count": null,
      "metadata": {
        "id": "19rFIvIINaT2",
        "outputId": "3fcb5678-4acc-4cde-88e6-53ba7e477a37",
        "colab": {
          "base_uri": "https://localhost:8080/",
          "height": 39
        }
      },
      "outputs": [
        {
          "output_type": "execute_result",
          "data": {
            "text/plain": [
              "x + y"
            ],
            "text/latex": "$\\displaystyle x + y$"
          },
          "metadata": {},
          "execution_count": 7
        }
      ],
      "source": [
        "x + y # Python returns x + y as an expression, not a numerical value"
      ]
    },
    {
      "cell_type": "code",
      "execution_count": null,
      "metadata": {
        "id": "xXRLB-HZNaT3",
        "outputId": "516e1254-76da-465d-9642-4a0446add030",
        "colab": {
          "base_uri": "https://localhost:8080/",
          "height": 40
        }
      },
      "outputs": [
        {
          "output_type": "execute_result",
          "data": {
            "text/plain": [
              "(x + y)**2"
            ],
            "text/latex": "$\\displaystyle \\left(x + y\\right)^{2}$"
          },
          "metadata": {},
          "execution_count": 8
        }
      ],
      "source": [
        "# We can perform more complex operations on variables\n",
        "expr1 = (x + y)**2 # assign the expression (x+y)^2 to variable expr1\n",
        "expr1            # display the value of variable expr1"
      ]
    },
    {
      "cell_type": "code",
      "execution_count": null,
      "metadata": {
        "id": "3QSwItEiNaT3",
        "outputId": "369f1dca-21c0-4f82-c6e3-6f06a5fae032",
        "colab": {
          "base_uri": "https://localhost:8080/",
          "height": 39
        }
      },
      "outputs": [
        {
          "output_type": "execute_result",
          "data": {
            "text/plain": [
              "x**2 + 2*x*y + y**2"
            ],
            "text/latex": "$\\displaystyle x^{2} + 2 x y + y^{2}$"
          },
          "metadata": {},
          "execution_count": 9
        }
      ],
      "source": [
        "# We can expand the above expression\n",
        "sp.expand(expr1) # the expand command expands the expression"
      ]
    },
    {
      "cell_type": "code",
      "execution_count": null,
      "metadata": {
        "id": "-Jj81hTLNaT4",
        "outputId": "9fc7db39-0084-436f-b3a6-fcb66ddb3fc1",
        "colab": {
          "base_uri": "https://localhost:8080/",
          "height": 40
        }
      },
      "outputs": [
        {
          "output_type": "execute_result",
          "data": {
            "text/plain": [
              "(x + y)**5"
            ],
            "text/latex": "$\\displaystyle \\left(x + y\\right)^{5}$"
          },
          "metadata": {},
          "execution_count": 10
        }
      ],
      "source": [
        "# More complex expression\n",
        "expr2 = (x + y)**5 # assign the expression (x+y)^5 to variable expr2\n",
        "expr2          # display the value of variable expr2"
      ]
    },
    {
      "cell_type": "code",
      "execution_count": null,
      "metadata": {
        "id": "8tZbiz-pNaT4",
        "outputId": "2d9efecd-6aba-43d4-cc40-055e3b07f51c",
        "colab": {
          "base_uri": "https://localhost:8080/",
          "height": 39
        }
      },
      "outputs": [
        {
          "output_type": "execute_result",
          "data": {
            "text/plain": [
              "x**5 + 5*x**4*y + 10*x**3*y**2 + 10*x**2*y**3 + 5*x*y**4 + y**5"
            ],
            "text/latex": "$\\displaystyle x^{5} + 5 x^{4} y + 10 x^{3} y^{2} + 10 x^{2} y^{3} + 5 x y^{4} + y^{5}$"
          },
          "metadata": {},
          "execution_count": 11
        }
      ],
      "source": [
        "expr2_expanded = sp.expand(expr2) # expand the expression\n",
        "expr2_expanded                    # display the value of variable expr2_expanded"
      ]
    },
    {
      "cell_type": "code",
      "execution_count": null,
      "metadata": {
        "id": "QyhkJEWtNaT5",
        "outputId": "893e4b45-1950-4c4b-dda0-824f37c836e9",
        "colab": {
          "base_uri": "https://localhost:8080/",
          "height": 39
        }
      },
      "outputs": [
        {
          "output_type": "execute_result",
          "data": {
            "text/plain": [
              "y**5 + 10*y**4 + 40*y**3 + 80*y**2 + 80*y + 32"
            ],
            "text/latex": "$\\displaystyle y^{5} + 10 y^{4} + 40 y^{3} + 80 y^{2} + 80 y + 32$"
          },
          "metadata": {},
          "execution_count": 12
        }
      ],
      "source": [
        "# We can substitute specific values into variables, e.g., x=2\n",
        "expr2_expanded.subs(x, 2)  # subs(x, 2) substitutes x=2 into the expression"
      ]
    },
    {
      "cell_type": "code",
      "execution_count": null,
      "metadata": {
        "id": "9DD9iCi8NaT5",
        "outputId": "f6d01015-f138-4fc6-d609-b80771f40f72",
        "colab": {
          "base_uri": "https://localhost:8080/",
          "height": 39
        }
      },
      "outputs": [
        {
          "output_type": "execute_result",
          "data": {
            "text/plain": [
              "Eq(x**2, 1)"
            ],
            "text/latex": "$\\displaystyle x^{2} = 1$"
          },
          "metadata": {},
          "execution_count": 13
        }
      ],
      "source": [
        "# In sympy, we can define equations!\n",
        "eq1 = sp.Eq(x**2, 1)\n",
        "eq1"
      ]
    },
    {
      "cell_type": "code",
      "execution_count": null,
      "metadata": {
        "id": "PwEMKbljNaT6",
        "outputId": "c9cc9917-c432-4d33-f02c-b952cb6174c7",
        "colab": {
          "base_uri": "https://localhost:8080/"
        }
      },
      "outputs": [
        {
          "output_type": "execute_result",
          "data": {
            "text/plain": [
              "[-1, 1]"
            ]
          },
          "metadata": {},
          "execution_count": 14
        }
      ],
      "source": [
        "# We can ask for solutions to the equation\n",
        "sol_eq1 = sp.solve(eq1)\n",
        "sol_eq1"
      ]
    },
    {
      "cell_type": "code",
      "execution_count": null,
      "metadata": {
        "id": "il_BziEbNaT7",
        "outputId": "470d5fa5-1604-4790-d879-7a3b7e034c81",
        "colab": {
          "base_uri": "https://localhost:8080/",
          "height": 37
        }
      },
      "outputs": [
        {
          "output_type": "execute_result",
          "data": {
            "text/plain": [
              "True"
            ],
            "text/latex": "$\\displaystyle \\text{True}$"
          },
          "metadata": {},
          "execution_count": 15
        }
      ],
      "source": [
        "# Check if the first solution satisfies the equation\n",
        "eq1.subs(x, sol_eq1[0]) # substitute the solution into the equation and check if it is satisfied"
      ]
    },
    {
      "cell_type": "code",
      "execution_count": null,
      "metadata": {
        "id": "y3WgJ0K2NaT7",
        "outputId": "1d8674eb-8a1b-47bb-ff3e-60d86cee29f2",
        "colab": {
          "base_uri": "https://localhost:8080/",
          "height": 37
        }
      },
      "outputs": [
        {
          "output_type": "execute_result",
          "data": {
            "text/plain": [
              "True"
            ],
            "text/latex": "$\\displaystyle \\text{True}$"
          },
          "metadata": {},
          "execution_count": 16
        }
      ],
      "source": [
        "# Check if the second solution satisfies the equation\n",
        "eq1.subs(x, sol_eq1[1]) # substitute the solution into the equation and check if it is satisfied"
      ]
    },
    {
      "cell_type": "code",
      "execution_count": null,
      "metadata": {
        "id": "_W7LuYTLNaT7",
        "outputId": "f223fdea-b1a5-4cd5-990f-760047c66368",
        "colab": {
          "base_uri": "https://localhost:8080/",
          "height": 39
        }
      },
      "outputs": [
        {
          "output_type": "execute_result",
          "data": {
            "text/plain": [
              "Eq(x**2 - 4*x + 3, 0)"
            ],
            "text/latex": "$\\displaystyle x^{2} - 4 x + 3 = 0$"
          },
          "metadata": {},
          "execution_count": 17
        }
      ],
      "source": [
        "# Another example\n",
        "eq2 = sp.Eq(x**2 - 4*x + 3, 0)\n",
        "eq2"
      ]
    },
    {
      "cell_type": "code",
      "execution_count": null,
      "metadata": {
        "id": "Git19YbENaT8",
        "outputId": "796dc35d-cad1-45fb-fff7-1245623c6c14",
        "colab": {
          "base_uri": "https://localhost:8080/"
        }
      },
      "outputs": [
        {
          "output_type": "execute_result",
          "data": {
            "text/plain": [
              "[1, 3]"
            ]
          },
          "metadata": {},
          "execution_count": 18
        }
      ],
      "source": [
        "# Solutions of the equation\n",
        "sol_eq2 = sp.solve(eq2)\n",
        "sol_eq2"
      ]
    },
    {
      "cell_type": "code",
      "execution_count": null,
      "metadata": {
        "id": "KWe_ykPjNaT8",
        "outputId": "dd7c0db4-3a7f-4d4e-cabf-a748f232b7bf",
        "colab": {
          "base_uri": "https://localhost:8080/",
          "height": 37
        }
      },
      "outputs": [
        {
          "output_type": "execute_result",
          "data": {
            "text/plain": [
              "True"
            ],
            "text/latex": "$\\displaystyle \\text{True}$"
          },
          "metadata": {},
          "execution_count": 19
        }
      ],
      "source": [
        "# Check the solutions\n",
        "eq2.subs(x, sol_eq2[0]) and eq2.subs(x, sol_eq2[1])"
      ]
    },
    {
      "cell_type": "code",
      "execution_count": null,
      "metadata": {
        "id": "YrtKSTKdNaT8",
        "outputId": "16cc6fcb-0fca-4bdd-d700-1d0ecc5fb8ce",
        "colab": {
          "base_uri": "https://localhost:8080/",
          "height": 39
        }
      },
      "outputs": [
        {
          "output_type": "execute_result",
          "data": {
            "text/plain": [
              "Eq(x**2 + y**2, 1)"
            ],
            "text/latex": "$\\displaystyle x^{2} + y^{2} = 1$"
          },
          "metadata": {},
          "execution_count": 20
        }
      ],
      "source": [
        "# Equation with two unknowns\n",
        "eq3 = sp.Eq(x**2 + y**2, 1)\n",
        "eq3"
      ]
    },
    {
      "cell_type": "code",
      "execution_count": null,
      "metadata": {
        "id": "NrpO_iO9NaT8",
        "outputId": "51901b1b-bfc3-4f3c-d7c2-b54075c6786c",
        "colab": {
          "base_uri": "https://localhost:8080/"
        }
      },
      "outputs": [
        {
          "output_type": "execute_result",
          "data": {
            "text/plain": [
              "[-sqrt(1 - x**2), sqrt(1 - x**2)]"
            ]
          },
          "metadata": {},
          "execution_count": 21
        }
      ],
      "source": [
        "# Solutions of a quadratic equation with two unknowns\n",
        "sol_eq3 = sp.solve(eq3, y) # solve the equation for y as a function of x\n",
        "sol_eq3"
      ]
    },
    {
      "cell_type": "code",
      "execution_count": null,
      "metadata": {
        "id": "MfWvED2UNaT9",
        "outputId": "ff77a69f-3900-483a-95bc-a15e262bb806",
        "colab": {
          "base_uri": "https://localhost:8080/",
          "height": 40
        }
      },
      "outputs": [
        {
          "output_type": "execute_result",
          "data": {
            "text/plain": [
              "-sqrt(1 - x**2)"
            ],
            "text/latex": "$\\displaystyle - \\sqrt{1 - x^{2}}$"
          },
          "metadata": {},
          "execution_count": 22
        }
      ],
      "source": [
        "# We can display the solutions of the equation in a more readable way\n",
        "sol_eq3[0]"
      ]
    },
    {
      "cell_type": "code",
      "execution_count": null,
      "metadata": {
        "id": "t8en75ZENaT9",
        "outputId": "57baf011-d49b-48ec-d847-338d8aa6fc22",
        "colab": {
          "base_uri": "https://localhost:8080/",
          "height": 40
        }
      },
      "outputs": [
        {
          "output_type": "execute_result",
          "data": {
            "text/plain": [
              "sqrt(1 - x**2)"
            ],
            "text/latex": "$\\displaystyle \\sqrt{1 - x^{2}}$"
          },
          "metadata": {},
          "execution_count": 23
        }
      ],
      "source": [
        "sol_eq3[1]"
      ]
    },
    {
      "cell_type": "code",
      "execution_count": null,
      "metadata": {
        "id": "bb68M1yMNaT9",
        "outputId": "b5d37d10-505f-4837-8e57-66a42de39731",
        "colab": {
          "base_uri": "https://localhost:8080/",
          "height": 37
        }
      },
      "outputs": [
        {
          "output_type": "execute_result",
          "data": {
            "text/plain": [
              "True"
            ],
            "text/latex": "$\\displaystyle \\text{True}$"
          },
          "metadata": {},
          "execution_count": 24
        }
      ],
      "source": [
        "# Check if the solutions satisfy the equation\n",
        "eq3.subs(y, sol_eq3[0]) and eq3.subs(y, sol_eq3[1])"
      ]
    },
    {
      "cell_type": "code",
      "execution_count": null,
      "metadata": {
        "id": "gZ2BenZaNaT9"
      },
      "outputs": [],
      "source": [
        "# Set the display mode for plots\n",
        "import matplotlib.pyplot as plt\n",
        "plt.rcParams['figure.figsize'] = [3, 3] # set plot size and aspect_ratio=1"
      ]
    },
    {
      "cell_type": "code",
      "execution_count": null,
      "metadata": {
        "id": "czxyCxB7NaT-",
        "outputId": "bfb2ae0d-40a8-4236-c883-4551e0b27362",
        "colab": {
          "base_uri": "https://localhost:8080/",
          "height": 307
        }
      },
      "outputs": [
        {
          "output_type": "display_data",
          "data": {
            "text/plain": [
              "<Figure size 300x300 with 1 Axes>"
            ],
            "image/png": "[encoded data removed]"
          },
          "metadata": {}
        }
      ],
      "source": [
        "# We can also plot the solutions of the equation on the plane aspect_ratio=1\n",
        "sp.plot_implicit(eq3, (x, -2, 2), (y, -2, 2));"
      ]
    },
    {
      "cell_type": "code",
      "execution_count": null,
      "metadata": {
        "id": "Z6vJ4AD3NaT-",
        "outputId": "c8867415-5fff-4a85-cf4f-305d1710dfba",
        "colab": {
          "base_uri": "https://localhost:8080/",
          "height": 54
        }
      },
      "outputs": [
        {
          "output_type": "execute_result",
          "data": {
            "text/plain": [
              "Eq(x**2/4 + y**2, 1)"
            ],
            "text/latex": "$\\displaystyle \\frac{x^{2}}{4} + y^{2} = 1$"
          },
          "metadata": {},
          "execution_count": 28
        }
      ],
      "source": [
        "ellipse = sp.Eq(x**2/4 + y**2, 1)\n",
        "ellipse"
      ]
    },
    {
      "cell_type": "code",
      "execution_count": null,
      "metadata": {
        "id": "6LYhR-4WNaT-",
        "outputId": "162f8a3c-ab01-4204-9648-e560d5fbd939",
        "colab": {
          "base_uri": "https://localhost:8080/",
          "height": 307
        }
      },
      "outputs": [
        {
          "output_type": "display_data",
          "data": {
            "text/plain": [
              "<Figure size 300x300 with 1 Axes>"
            ],
            "image/png": "[encoded data removed]"
          },
          "metadata": {}
        }
      ],
      "source": [
        "# We can also plot the solutions of the equation on the plane aspect_ratio=1\n",
        "sp.plot_implicit(ellipse, (x, -3, 3), (y, -3, 3));"
      ]
    },
    {
      "cell_type": "code",
      "execution_count": null,
      "metadata": {
        "id": "OY_PhEewNaT_",
        "outputId": "406d4c06-685d-41be-814f-3a07ab5f3c10",
        "colab": {
          "base_uri": "https://localhost:8080/",
          "height": 307
        }
      },
      "outputs": [
        {
          "output_type": "display_data",
          "data": {
            "text/plain": [
              "<Figure size 300x300 with 1 Axes>"
            ],
            "image/png": "[encoded data removed]"
          },
          "metadata": {}
        }
      ],
      "source": [
        "# We can also plot several equations on one plot\n",
        "line = sp.Eq(y, 2*x - 1)\n",
        "circle = sp.Eq(x**2 + y**2, 1)\n",
        "\n",
        "# Plotting the circle and ellipse on one plot\n",
        "p1 = sp.plot_implicit(line, (x, -2, 2), (y, -2, 2), show=False)\n",
        "p2 = sp.plot_implicit(circle, (x, -2, 2), (y, -2, 2), show=False)\n",
        "\n",
        "# Add the plots together\n",
        "p1.extend(p2) # \"attach\"\n",
        "p1.show()"
      ]
    },
    {
      "cell_type": "code",
      "execution_count": null,
      "metadata": {
        "id": "TlQwDVg7NaT_",
        "outputId": "c6d4b997-809a-447c-a66e-86ce5959a15b",
        "colab": {
          "base_uri": "https://localhost:8080/"
        }
      },
      "outputs": [
        {
          "output_type": "execute_result",
          "data": {
            "text/plain": [
              "[{x: 0, y: -1}, {x: 4/5, y: 3/5}]"
            ]
          },
          "metadata": {},
          "execution_count": 31
        }
      ],
      "source": [
        "# Let's see where the circle and the line intersect\n",
        "intersection_points = sp.solve([line, circle])\n",
        "intersection_points"
      ]
    },
    {
      "cell_type": "code",
      "execution_count": null,
      "metadata": {
        "id": "98EjdJtANaT_",
        "outputId": "1f3615c9-6f49-41a4-dacd-797e1721c306",
        "colab": {
          "base_uri": "https://localhost:8080/",
          "height": 39
        }
      },
      "outputs": [
        {
          "output_type": "execute_result",
          "data": {
            "text/plain": [
              "Eq(x + y, 1)"
            ],
            "text/latex": "$\\displaystyle x + y = 1$"
          },
          "metadata": {},
          "execution_count": 32
        }
      ],
      "source": [
        "# How to check if two equations are equivalent?\n",
        "\n",
        "# Let's write the same in a different form\n",
        "r1 = sp.Eq(x + y, 1)\n",
        "r1"
      ]
    },
    {
      "cell_type": "code",
      "execution_count": null,
      "metadata": {
        "id": "FFsM_XAKNaUA",
        "outputId": "7cffe837-4a75-4b9c-ce79-f9eb7640710f",
        "colab": {
          "base_uri": "https://localhost:8080/",
          "height": 39
        }
      },
      "outputs": [
        {
          "output_type": "execute_result",
          "data": {
            "text/plain": [
              "Eq(2*x - 2, -2*y)"
            ],
            "text/latex": "$\\displaystyle 2 x - 2 = - 2 y$"
          },
          "metadata": {},
          "execution_count": 33
        }
      ],
      "source": [
        "r2 = sp.Eq(2*x - 2, -2*y)\n",
        "r2"
      ]
    },
    {
      "cell_type": "code",
      "execution_count": null,
      "metadata": {
        "id": "7_dfDlMnNaUA",
        "outputId": "937faadf-bf0f-4116-fc42-ccfbbd66a7a7",
        "colab": {
          "base_uri": "https://localhost:8080/"
        }
      },
      "outputs": [
        {
          "output_type": "execute_result",
          "data": {
            "text/plain": [
              "False"
            ]
          },
          "metadata": {},
          "execution_count": 34
        }
      ],
      "source": [
        "# We cannot directly compare two equations, but we can check if they are equivalent\n",
        "r1 == r2"
      ]
    },
    {
      "cell_type": "code",
      "execution_count": null,
      "metadata": {
        "id": "rdfU6WjINaUA",
        "outputId": "ade5289e-af45-404c-f9f4-9fa3bca04472",
        "colab": {
          "base_uri": "https://localhost:8080/",
          "height": 54
        }
      },
      "outputs": [
        {
          "output_type": "execute_result",
          "data": {
            "text/plain": [
              "(x + y - 1)/(2*x + 2*y - 2)"
            ],
            "text/latex": "$\\displaystyle \\frac{x + y - 1}{2 x + 2 y - 2}$"
          },
          "metadata": {},
          "execution_count": 35
        }
      ],
      "source": [
        "# But if we make an expression\n",
        "ratio = (r1.lhs - r1.rhs) / (r2.lhs - r2.rhs)\n",
        "ratio"
      ]
    },
    {
      "cell_type": "code",
      "execution_count": null,
      "metadata": {
        "id": "1q0Wxpd0NaUA",
        "outputId": "ba4b7626-abd0-4d4a-c94b-6a8f1cdfc9fc",
        "colab": {
          "base_uri": "https://localhost:8080/",
          "height": 51
        }
      },
      "outputs": [
        {
          "output_type": "execute_result",
          "data": {
            "text/plain": [
              "1/2"
            ],
            "text/latex": "$\\displaystyle \\frac{1}{2}$"
          },
          "metadata": {},
          "execution_count": 36
        }
      ],
      "source": [
        "# simplify the expression\n",
        "sp.simplify(ratio)"
      ]
    }
  ],
  "metadata": {
    "kernelspec": {
      "display_name": "Python 3",
      "language": "python",
      "name": "python3"
    },
    "language_info": {
      "codemirror_mode": {
        "name": "ipython",
        "version": 3
      },
      "file_extension": ".py",
      "mimetype": "text/x-python",
      "name": "python",
      "nbconvert_exporter": "python",
      "pygments_lexer": "ipython3",
      "version": "3.11.9"
    },
    "colab": {
      "provenance": [],
      "include_colab_link": true
    }
  },
  "nbformat": 4,
  "nbformat_minor": 0
}